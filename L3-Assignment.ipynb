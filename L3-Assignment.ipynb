{
 "cells": [
  {
   "cell_type": "markdown",
   "metadata": {},
   "source": [
    "**Start by running the cell below to import necessary packages and setup the testing enviornment**"
   ]
  },
  {
   "cell_type": "code",
   "execution_count": null,
   "metadata": {
    "nbgrader": {
     "grade": false,
     "grade_id": "cell-8e5ec24da82133ac",
     "locked": true,
     "schema_version": 3,
     "solution": false
    }
   },
   "outputs": [],
   "source": [
    "using Test, Plots, Distributions, LinearAlgebra, CSV, Random\n",
    "using DataFrames, DecisionTree, StatsPlots, StatsBase, FreqTables\n",
    "gr();"
   ]
  },
  {
   "cell_type": "markdown",
   "metadata": {
    "nbgrader": {
     "grade": false,
     "grade_id": "cell-1805b00066c3f93b",
     "locked": true,
     "schema_version": 3,
     "solution": false
    }
   },
   "source": [
    "# IL027 Computer Modelling for All\n",
    "\n",
    "## Assignment 3 - deadline 31st Jan 2020\n",
    "\n",
    "Topics covered:\n",
    "* probability distributions\n",
    "* stochastic model\n",
    "* data analysis\n",
    "* predictive models\n",
    "\n",
    "**NOTE:** Unlike the lecture notebooks, where we ask you to make a copy before making changes, for the assignments please don't make a copy but instead *make changes directly within this notebook*. For the assignment submission to work correctly, the filenames must match the original ones, i.e. `A3.ipynb` for this one."
   ]
  },
  {
   "cell_type": "markdown",
   "metadata": {
    "nbgrader": {
     "grade": false,
     "grade_id": "cell-370189e28173e954",
     "locked": true,
     "schema_version": 3,
     "solution": false
    }
   },
   "source": [
    "### Part a - Probability Distributions and Stochastic Models"
   ]
  },
  {
   "cell_type": "markdown",
   "metadata": {
    "nbgrader": {
     "grade": false,
     "grade_id": "cell-8349c20abca74a99",
     "locked": true,
     "schema_version": 3,
     "solution": false
    }
   },
   "source": [
    "**Question 1 (5%)**\n",
    "\n",
    "Create a vector `x` of length `10` containing random numbers drawn from the normal distribution with mean $0$ and variance $1$. \n"
   ]
  },
  {
   "cell_type": "code",
   "execution_count": null,
   "metadata": {
    "nbgrader": {
     "grade": true,
     "grade_id": "cell-0d556b9057701896",
     "locked": false,
     "points": 0,
     "schema_version": 3,
     "solution": true
    }
   },
   "outputs": [],
   "source": [
    "## BEGIN ANSWER \n",
    "x = randn(10)\n",
    "## END ANSWER"
   ]
  },
  {
   "cell_type": "markdown",
   "metadata": {
    "nbgrader": {
     "grade": false,
     "grade_id": "cell-bbb012ea72cd1a48",
     "locked": true,
     "schema_version": 3,
     "solution": false
    }
   },
   "source": [
    "**Question 2. (10%)**\n",
    "\n",
    "Create a function `rexp(N)` that returns a vector `x` of length `N` containing random numbers drawn from the [exponential distribution](https://en.wikipedia.org/wiki/Exponential_distribution) with parameter $\\lambda = 1.234$.  (You may use either `randexp` or `Distributions.jl`.)"
   ]
  },
  {
   "cell_type": "code",
   "execution_count": null,
   "metadata": {
    "nbgrader": {
     "grade": false,
     "grade_id": "cell-68525c9447bc52eb",
     "locked": false,
     "schema_version": 3,
     "solution": true
    }
   },
   "outputs": [],
   "source": [
    "## BEGIN SOLUTION \n",
    "function rexp(N)\n",
    "    Dexp = Exponential(1.234)\n",
    "    return rand(Dexp, N)\n",
    "end \n",
    "## END SOLUTION "
   ]
  },
  {
   "cell_type": "code",
   "execution_count": null,
   "metadata": {
    "nbgrader": {
     "grade": true,
     "grade_id": "cell-846db7af53956d69",
     "locked": true,
     "points": 10,
     "schema_version": 3,
     "solution": false
    }
   },
   "outputs": [],
   "source": [
    "## BEGIN HIDDEN TESTS\n",
    "N = 10_000_000\n",
    "Dexp = Exponential(1.234)\n",
    "x = rexp(N)\n",
    "y = rand(Dexp, N)\n",
    "for n = 1:5\n",
    "    println(@test abs(moment(x, n) - moment(y, n)) / (1.0+moment(x,n)) < 0.03)\n",
    "end\n",
    "## END HIDDEN TESTS"
   ]
  },
  {
   "cell_type": "markdown",
   "metadata": {
    "nbgrader": {
     "grade": false,
     "grade_id": "cell-b1a9dc896990a30f",
     "locked": true,
     "schema_version": 3,
     "solution": false
    }
   },
   "source": [
    "**Question 3. (15%)**\n",
    "\n",
    "[1] form a vector `y` of length `M` where each entry is of the form \n",
    "$$\n",
    "    y_i = \\frac{1}{N} \\sum_{j = 1} x_{ij},\n",
    "$$\n",
    "where $x_{ij}$ are independent random numbers drawn from Exp(1.234$. (Note: you can reuse the answer from Q2, but you don't have to!)\n",
    "\n",
    "[2] fit a normal distribution to the random numbers stored in the vector `y`.\n",
    "\n",
    "[3] Compute the `mean` and `variance` of the normal distribution and store them in the variables `m_fit, v_fit`.\n",
    "\n",
    "NOTE: cf. `using Distributions`, `?Normal` `?mean`, `?var`"
   ]
  },
  {
   "cell_type": "code",
   "execution_count": null,
   "metadata": {
    "nbgrader": {
     "grade": false,
     "grade_id": "cell-d4381720f6e646dd",
     "locked": false,
     "schema_version": 3,
     "solution": true
    }
   },
   "outputs": [],
   "source": [
    "M = 1_000\n",
    "N = 1_000\n",
    "y = zeros(M)\n",
    "## BEGIN SOLUTION \n",
    "for m = 1:M\n",
    "    y[m] = mean(rexp(N))\n",
    "end \n",
    "Dn = fit(Normal, y)\n",
    "m_fit = mean(Dn)\n",
    "v_fit = var(Dn)\n",
    "## END SOLUTION \n",
    ";"
   ]
  },
  {
   "cell_type": "code",
   "execution_count": null,
   "metadata": {
    "nbgrader": {
     "grade": true,
     "grade_id": "cell-6496d25ae44d894f",
     "locked": true,
     "points": 15,
     "schema_version": 3,
     "solution": false
    }
   },
   "outputs": [],
   "source": [
    "## BEGIN HIDDEN TESTS\n",
    "m_ex, v_ex = 1.234, 0.001526\n",
    "println(@test abs(m_ex - m_fit) < 0.1)\n",
    "println(@test abs(v_ex - v_fit)/abs(v_ex) < 0.1)\n",
    "## END HIDDEN TESTS"
   ]
  },
  {
   "cell_type": "code",
   "execution_count": null,
   "metadata": {},
   "outputs": [],
   "source": [
    "# you can draw a histogram to test your fit, \n",
    "# it is interesting to experiment with M, N and nbins\n",
    "# Which fundamental theorem of Probability theory can you see at work here?\n",
    "histogram(y, nbins=30, normed=true, label=\"data\")\n",
    "plot!( x -> pdf(Dn, x), lw=3, label=\"fit\" )"
   ]
  },
  {
   "cell_type": "markdown",
   "metadata": {
    "nbgrader": {
     "grade": false,
     "grade_id": "cell-2a729f2f59695c1b",
     "locked": true,
     "schema_version": 3,
     "solution": false
    }
   },
   "source": [
    "**Question 4. (20%)**\n",
    "\n",
    "Suppose we roll $n$ traditional dice, what is the \n",
    "probability of obtaining a certain number $m$ as the\n",
    "sum of their faces? This can really be treated as a problem \n",
    "of combinatorics, but we will solve it using a  simple \n",
    "Monte Carlo simulation.\n",
    "\n",
    "1. Implement a function `diceroll(n)` that simulates rolling `n` traditional dice and returns the sum of their faces.\n",
    "\n",
    "2. Implement a function `mc_dice(n, m)` that uses a Monte Carlo method to approximately determine the probability of throwing the sum `m` with `n` dice and returns it.\n",
    "\n",
    "3. Adjust the number of random samples used by your `mc_dice()` function so that you can be sure (reasonably confident) that the accuracy of your result is at least 0.01."
   ]
  },
  {
   "cell_type": "code",
   "execution_count": null,
   "metadata": {
    "nbgrader": {
     "grade": false,
     "grade_id": "cell-9207292e3e5567ec",
     "locked": false,
     "schema_version": 3,
     "solution": true
    }
   },
   "outputs": [],
   "source": [
    "## BEGIN SOLUTION \n",
    "diceroll(n) = sum( rand(1:6, n) )\n",
    "\n",
    "function mc_dice(n, m, Nsamples = 100_000)\n",
    "    count = 0 \n",
    "    for i = 1:Nsamples \n",
    "        if diceroll(n) == m \n",
    "            count += 1\n",
    "        end \n",
    "    end \n",
    "    return count / Nsamples \n",
    "end \n",
    "## END SOLUTION"
   ]
  },
  {
   "cell_type": "code",
   "execution_count": null,
   "metadata": {
    "nbgrader": {
     "grade": true,
     "grade_id": "cell-e10e6ad2b06a0808",
     "locked": true,
     "points": 20,
     "schema_version": 3,
     "solution": false
    }
   },
   "outputs": [],
   "source": [
    "## BEGIN HIDDEN TESTS\n",
    "diceroll_(n) = sum( rand(1:6, n) )\n",
    "\n",
    "function mc_dice_(n, m, Nsamples = 1_000_000)\n",
    "    count = 0\n",
    "    for i = 1:Nsamples\n",
    "        if diceroll_(n) == m\n",
    "            count += 1\n",
    "        end\n",
    "    end\n",
    "    return count / Nsamples\n",
    "end\n",
    "\n",
    "for (n, m) in zip((2, 3, 3, 4, 4), (5, 8, 6, 10, 15))\n",
    "    sol = mc_dice(n, m)\n",
    "    ex = mc_dice_(n, m)\n",
    "    println(@test abs(sol - ex) < 0.02)\n",
    "end\n",
    "## END HIDDEN TESTS"
   ]
  },
  {
   "cell_type": "code",
   "execution_count": null,
   "metadata": {},
   "outputs": [],
   "source": [
    "# test code which you can modify if you wish\n",
    "\n",
    "println(\"Test 1\")\n",
    "n = 2 \n",
    "m = 5  # 1+4, 2+3, 3+2, 3+1 => 4/36 = 1/9 \n",
    "for i = 1:3\n",
    "    @show mc_dice(n, m) - 1/9\n",
    "end\n",
    "\n",
    "println(\"Test 2\")\n",
    "n = 3\n",
    "m = 5  # (1 + 1 + 3) x 3; (1 + 2 + 2) x 3, => 6 / 216 = 0.02777\n",
    "for i = 1:3\n",
    "    @show mc_dice(n, m) - 6/216\n",
    "end\n"
   ]
  },
  {
   "cell_type": "markdown",
   "metadata": {
    "nbgrader": {
     "grade": false,
     "grade_id": "cell-6a4ec512df8e2bee",
     "locked": true,
     "schema_version": 3,
     "solution": false
    }
   },
   "source": [
    "-------"
   ]
  },
  {
   "cell_type": "markdown",
   "metadata": {
    "nbgrader": {
     "grade": false,
     "grade_id": "cell-0768bdd4ed3842f3",
     "locked": true,
     "schema_version": 3,
     "solution": false
    }
   },
   "source": [
    "**Bonus Question 1 (no marks)** Buffon's Needle Problem:\n",
    "\n",
    "![buffon](http://mathworld.wolfram.com/images/eps-gif/BuffonNeedle_700.gif)\n",
    "\n",
    "Suppose the $(x,y)$ plane is covered by vertical lines with distance $d = 1$ (see image). We randomly drop needles of length $l$ in the plane, i.e. at random positions and at random angles. What is the probability that a needle crosses the line?\n",
    "\n",
    "Before you google for [a solution](http://mathworld.wolfram.com/BuffonsNeedleProblem.html), try to follow these instructions:\n",
    "\n",
    "1. A randomly dropped needle can be modelled by two uniformly distributed random numbers $x \\in [0, 1)$ for the $x$-coordinate of the needle centre and $\\theta \\in [0, \\pi/2)$ for the angle at which it falls. Why is $x \\in [0, 1)$ enough, why can we ignore $y$, and why is it sufficient to consider $\\theta \\in [0, \\pi/2)$?  \n",
    "2. Given the random numbers $x$, $\\theta$, show that the end-points of the needle are given by \n",
    "$$\n",
    "    \\begin{pmatrix}\n",
    "        x \\pm \\frac{l}{2}\\cos\\theta \\\\ \n",
    "        \\pm \\sin(\\theta)/2\n",
    "    \\end{pmatrix}\n",
    "$$\n",
    "\n",
    "3. Write a function `needle(l)` that first generates two such random numbers and then, the end-point $x$-coordinate $x\\pm = x \\pm \\frac{l}{2}\\cos\\theta$ and then returns `true` if the needle intersects the lines at $x = 0, 1$ and `false` if not.\n",
    "\n",
    "4. Write a short script that uses the `needle` function that solves the Buffon Needle Problem to within an error of, say, $0.01$. You can compare your code against the analytic solution (which you should be able to find easily).\n",
    "\n",
    "5. MORE CHALLENGING: You can try to extend the script to generate an image showing random needles with those that cross a line highlighted in a different color; see [this example](http://mathworld.wolfram.com/images/eps-gif/BuffonNeedleTosses_825.gif)"
   ]
  },
  {
   "cell_type": "code",
   "execution_count": null,
   "metadata": {
    "nbgrader": {
     "grade": false,
     "grade_id": "cell-49a2f72f3a70cc14",
     "locked": false,
     "schema_version": 3,
     "solution": true
    }
   },
   "outputs": [],
   "source": [
    "# Soln 1-4\n",
    "## BEGIN SOLUTION \n",
    "function needle(l)\n",
    "    x = rand() \n",
    "    θ = rand() * π/2\n",
    "    xp = x + l/2*cos(θ)\n",
    "    xm = x - l/2*cos(θ)\n",
    "    return ((xp >= 1) || (xm <= 0))\n",
    "end \n",
    "l = 1\n",
    "Nsamples = 1_000_000  \n",
    "p = mean( needle(l) for n = 1:Nsamples )\n",
    "@show p, 2/π\n",
    "## END SOLUTION \n"
   ]
  },
  {
   "cell_type": "code",
   "execution_count": null,
   "metadata": {
    "nbgrader": {
     "grade": false,
     "grade_id": "cell-860c495ddc214d67",
     "locked": false,
     "schema_version": 3,
     "solution": true
    }
   },
   "outputs": [],
   "source": [
    "# Soln 5.\n",
    "## BEGIN SOLUTION \n",
    "function needle(l)\n",
    "    x = rand() \n",
    "    y = rand() * 10 \n",
    "    θ = π * (rand() - 0.5)\n",
    "    xp = x + l/2*cos(θ)\n",
    "    yp = y + l/2*sin(θ)\n",
    "    xm = x - l/2*cos(θ)\n",
    "    ym = y - l/2*sin(θ)\n",
    "    crosses = ((xp >= 1) || (xm <= 0))\n",
    "    x1 = rand(0:9)\n",
    "    xp += x1 \n",
    "    xm += x1\n",
    "    return [xp, xm], [yp,ym], crosses\n",
    "end \n",
    "\n",
    "l = 0.6\n",
    "p = plot(xlim = (0, 10), ylim=(0, 10), label = \"\")\n",
    "for x = 0:10 \n",
    "    plot!([x,x], [0,10], lw=1, c=:black, label = \"\")\n",
    "end\n",
    "for n = 1:100\n",
    "    x, y, crosses = needle(l)\n",
    "    col = crosses ? (:red) : (:blue )\n",
    "    plot!(x, y, lw=3, c = col, label = \"\")\n",
    "end \n",
    "display(p)\n",
    "## END SOLUTION"
   ]
  },
  {
   "cell_type": "code",
   "execution_count": null,
   "metadata": {},
   "outputs": [],
   "source": []
  },
  {
   "cell_type": "markdown",
   "metadata": {
    "nbgrader": {
     "grade": false,
     "grade_id": "cell-4d35cd48e0c130c4",
     "locked": true,
     "schema_version": 3,
     "solution": false
    }
   },
   "source": [
    "**Bonus Question 2 (no marks).** This question requires a little bit of mathematics background. Simply skip if it seem too technical for your taste.\n",
    "\n",
    "Let $A \\in \\mathbb{R}^{N \\times N}$ be a square and symmetric matrix ($A^T = A$), then a value $\\lambda \\in \\mathbb{R}$ is an eigenvalue of $A$ if there exists a vector $v \\in \\mathbb{R}^N$ such that $A v = \\lambda v$. Since $A$ is symmetric, there exist exactly $N$ eigenvalues (with multiplicities), $\\lambda_1, \\dots, \\lambda_N$. \n",
    "\n",
    "Implement a short script that visualises the [Wigner Semi-circle Law](http://mathworld.wolfram.com/WignersSemicircleLaw.html): If $A_{ij} = A_{ji} \\sim N(0, 1)$ are independent then the distribution of the eigenvalues has the probability density \n",
    "$$\n",
    "  \\lim_{N \\to \\infty} \\mathbb{P}\\big( \\lambda_i/\\sqrt{N} \\in [a,b] \\big) \n",
    "      = \\frac{1}{2\\pi} \\int_a^b \\sqrt{\\big( 4 - x^2 \\big)^{1/2}} dx.\n",
    "$$\n",
    "A possible solution could create a large symmetric random matrix (1000 x 1000 should be enough and much larger would be comutationally very expensive), compute its eigenvalues, create a histogram of their distribution and finally overlay the theoretical probability distribution function."
   ]
  },
  {
   "cell_type": "code",
   "execution_count": null,
   "metadata": {
    "nbgrader": {
     "grade": true,
     "grade_id": "cell-42145690d15f34e3",
     "locked": false,
     "points": 0,
     "schema_version": 3,
     "solution": true
    }
   },
   "outputs": [],
   "source": [
    "## BEGIN SOLUTION \n",
    "N = 1_000\n",
    "A = randn(N, N)\n",
    "A = sqrt(0.5)*(A + A')\n",
    "λ = real.(eigvals(A)) / sqrt(N)\n",
    "histogram(λ, nbins = 50, normed = true, label=\"empirical\")\n",
    "σ = 1 # the variance of the normal distribution  \n",
    "t = range(-2*σ, stop=2*σ, length=200)\n",
    "plot!(t, sqrt.(4*σ^2 .- t.^2) / (2*π*σ^2), lw=3, label=\"semi-circle law\")\n",
    "## END SOLUTION"
   ]
  },
  {
   "cell_type": "markdown",
   "metadata": {},
   "source": [
    "### Part b - Data Analysis\n",
    "\n",
    "Start by loading the Titanic training dataset used in lectures, and applying the same transformations discussed to fill in missing values, as provided in the cell below:"
   ]
  },
  {
   "cell_type": "code",
   "execution_count": null,
   "metadata": {
    "nbgrader": {
     "grade": false,
     "grade_id": "cell-545dfd063d65643b",
     "locked": true,
     "schema_version": 3,
     "solution": false
    }
   },
   "outputs": [],
   "source": [
    "titanic = CSV.read(\"titanic.csv\")\n",
    "\n",
    "# Use an enumerated type for Survived column\n",
    "@enum SurvivedType Dead=0 Survived=1\n",
    "titanic[!,:Survived] = SurvivedType.(titanic[!,:Survived]);\n",
    "\n",
    "# replaced missing Embarked entries with most common value\n",
    "embarked=dropmissing(titanic,:Embarked)\n",
    "embarked_mode = mode(embarked[!,:Embarked])\n",
    "titanic[!,:Embarked]=coalesce.(titanic[!,:Embarked],embarked_mode)\n",
    "\n",
    "# drop rows where Age is missing\n",
    "titanic = dropmissing(titanic,:Age);\n",
    "\n",
    "# add a Child feature where Age < 13\n",
    "@enum ChildType Child=0 Adult=1\n",
    "function classify_by_age(x)\n",
    "  if x < 13\n",
    "    return Child\n",
    "  else\n",
    "    return Adult\n",
    "  end\n",
    "end\n",
    "titanic[!,:Child] = classify_by_age.(titanic[!,:Age]);\n",
    "\n",
    "first(titanic,6)"
   ]
  },
  {
   "cell_type": "markdown",
   "metadata": {},
   "source": [
    "**Question 5. (10%)**\n",
    "\n",
    "The `Pclass` column gives the class passengers travelled in (1, 2 or 3), and can be viewed as a proxy for their socio-econonic class. Write a function `survival_by_class()` that takes the `titanic` dataset and the number of a class as arguments and returns the survival proportion in that class."
   ]
  },
  {
   "cell_type": "code",
   "execution_count": null,
   "metadata": {
    "nbgrader": {
     "grade": false,
     "grade_id": "cell-be4e59dc44625d91",
     "locked": false,
     "schema_version": 3,
     "solution": true
    }
   },
   "outputs": [],
   "source": [
    "function survival_by_class(titanic, class)\n",
    "    mask = titanic[!,:Pclass] .== class\n",
    "    return sum(titanic[mask,:Survived] .== Ref(Survived)) / sum(mask)\n",
    "end"
   ]
  },
  {
   "cell_type": "code",
   "execution_count": null,
   "metadata": {
    "nbgrader": {
     "grade": true,
     "grade_id": "cell-150ffb2987db5562",
     "locked": true,
     "points": 10,
     "schema_version": 3,
     "solution": false
    }
   },
   "outputs": [],
   "source": [
    "println(@test isapprox(survival_by_class(titanic, 1), 0.656, atol=1e-2))\n",
    "println(@test isapprox(survival_by_class(titanic, 2), 0.479, atol=1e-2))\n",
    "println(@test isapprox(survival_by_class(titanic, 3), 0.239, atol=1e-2))"
   ]
  },
  {
   "cell_type": "markdown",
   "metadata": {},
   "source": [
    "**Question 6a. (10%)**\n",
    "\n",
    "Building on the example for the `Child` feature in the lecture, add a new column named `FamilySize` to the `titanic` dataset. The values should be the sum of the `SibSp` (Number of siblings/spouses aboard) and `Parch` (Number of parents/children aboard) plus one for the passenger themselves."
   ]
  },
  {
   "cell_type": "code",
   "execution_count": null,
   "metadata": {
    "nbgrader": {
     "grade": false,
     "grade_id": "cell-198aba2d1e165c7f",
     "locked": false,
     "schema_version": 3,
     "solution": true
    }
   },
   "outputs": [],
   "source": [
    "titanic[!,:FamilySize] = titanic[!,:SibSp] + titanic[!,:Parch] .+ 1;"
   ]
  },
  {
   "cell_type": "code",
   "execution_count": null,
   "metadata": {
    "nbgrader": {
     "grade": true,
     "grade_id": "cell-b920e69289e6e663",
     "locked": true,
     "points": 8,
     "schema_version": 3,
     "solution": false
    }
   },
   "outputs": [],
   "source": [
    "println(@test mode(titanic[!,:FamilySize]) == 1)\n",
    "println(@test isapprox(mean(titanic[!,:FamilySize]), 1.944, atol=1e-2))\n",
    "println(@test isapprox(std(titanic[!,:FamilySize]), 1.484, atol=1e-2))"
   ]
  },
  {
   "cell_type": "markdown",
   "metadata": {},
   "source": [
    "**Question 6b (5%).** \n",
    "\n",
    "Plot histograms to show the relationship between `FamilySize` and `Survived`. Write a short paragraph to describe what your results show."
   ]
  },
  {
   "cell_type": "code",
   "execution_count": null,
   "metadata": {
    "nbgrader": {
     "grade": true,
     "grade_id": "cell-5db322d02dd8394a",
     "locked": false,
     "points": 5,
     "schema_version": 3,
     "solution": true
    }
   },
   "outputs": [],
   "source": [
    "groupedbar(freqtable(titanic, :FamilySize, :Survived), label=[:Dead :Survived], \n",
    "            xlabel=\"Family size\", ylabel=\"Frequency\")"
   ]
  },
  {
   "cell_type": "markdown",
   "metadata": {
    "nbgrader": {
     "grade": true,
     "grade_id": "cell-e2418efcb4c4ebfb",
     "locked": false,
     "points": 0,
     "schema_version": 3,
     "solution": true
    }
   },
   "source": [
    "YOUR TEXT HERE"
   ]
  },
  {
   "cell_type": "markdown",
   "metadata": {},
   "source": [
    "**Question 7a (10%)**\n",
    "\n",
    "Add a new column named `Title` to the `titanic` dataset which gives the title of the passenger, e.g. `Mr.`, `Mrs.` etc, without the trailing `\".\"`. The French titles `Mlle` and `Mme` must be translated to `Miss` and `Mrs`, respectively, and `Ms` should be reassigned to `Miss`."
   ]
  },
  {
   "cell_type": "code",
   "execution_count": null,
   "metadata": {
    "nbgrader": {
     "grade": false,
     "grade_id": "cell-0ab3224f87c05923",
     "locked": false,
     "schema_version": 3,
     "solution": true
    }
   },
   "outputs": [],
   "source": [
    "## BEGIN SOLUTION\n",
    "titanic[!,:Title] = replace.(titanic[!,:Name], (r\"(.*, )|(\\..*)\"=>\"\",));\n",
    "\n",
    "# Reassign Mlle, Ms, and Mme accordingly\n",
    "for (from, to) in [(\"Mlle\", \"Miss\"),\n",
    "                   (\"Ms\", \"Miss\"),\n",
    "                   (\"Mme\", \"Mrs\")]\n",
    "    titanic[titanic[!,:Title] .== from, :Title] .= to\n",
    "end\n",
    "   \n",
    "# Optionally, collapse titles with very low counts\n",
    "for title in [\"Dona\", \"Lady\", \"the Countess\", \"Capt\", \"Col\", \"Don\", \n",
    "              \"Dr\", \"Major\", \"Rev\", \"Sir\", \"Jonkheer\"]\n",
    "    titanic[titanic[!,:Title] .== title, :Title] .= \"Rare Title\"\n",
    "end\n",
    "countmap(titanic[!,:Title])\n",
    "## END SOLUTION"
   ]
  },
  {
   "cell_type": "code",
   "execution_count": null,
   "metadata": {
    "nbgrader": {
     "grade": true,
     "grade_id": "cell-551188ee71dd4591",
     "locked": true,
     "points": 15,
     "schema_version": 3,
     "solution": false
    }
   },
   "outputs": [],
   "source": [
    "println(@test eltype(titanic[!,:Title]) == String)\n",
    "println(@test sum(titanic[!,:Title] .== \"Mr\") == 398)\n",
    "println(@test sum(titanic[!,:Title] .== \"Miss\") == 149)\n",
    "println(@test sum(titanic[!,:Title] .== \"Mrs\") == 109)"
   ]
  },
  {
   "cell_type": "markdown",
   "metadata": {},
   "source": [
    "**Question 7b (5%)**\n",
    "\n",
    "Which title is associated with the lowest chance of survival? Plot a graph to evidence your answer."
   ]
  },
  {
   "cell_type": "markdown",
   "metadata": {
    "nbgrader": {
     "grade": true,
     "grade_id": "cell-3fbe2456a5ab8af7",
     "locked": false,
     "points": 5,
     "schema_version": 3,
     "solution": true
    }
   },
   "source": [
    "\"Mr.\" is the most dangerous title, as people with that title have the lowest chance of survival."
   ]
  },
  {
   "cell_type": "code",
   "execution_count": null,
   "metadata": {
    "nbgrader": {
     "grade": true,
     "grade_id": "cell-194b85729fdb5f7f",
     "locked": false,
     "points": 0,
     "schema_version": 3,
     "solution": true
    }
   },
   "outputs": [],
   "source": [
    "groupedbar(freqtable(titanic, :Title, :Survived), label=[:Dead :Survived], \n",
    "           xticks=(1:5, sort(levels(titanic[!,:Title]))))"
   ]
  },
  {
   "cell_type": "markdown",
   "metadata": {},
   "source": [
    "**Question 8. (10%)**\n",
    "\n",
    "Fit a normal distribution to the `Age` variable from the `titanic` dataset.  Compute its mean and standard deviation and store them in the variables `mean_age` and `std_age`.\n",
    "\n",
    "*Optional extension:* plot a comparison of the data and fit and think about how these results could be used to avoid deleting the rows where the age is missing."
   ]
  },
  {
   "cell_type": "code",
   "execution_count": null,
   "metadata": {
    "nbgrader": {
     "grade": false,
     "grade_id": "cell-dd592f911930c59d",
     "locked": false,
     "schema_version": 3,
     "solution": true
    }
   },
   "outputs": [],
   "source": [
    "fit_norm = fit(Normal, titanic[!,:Age])\n",
    "@show mean_age = mean(fit_norm)\n",
    "@show std_age = std(fit_norm)\n",
    "density(titanic[!,:Age], lw=2, label=\"Age data\")\n",
    "plot!(fit_norm, lw=2, label=\"Normal fit\")"
   ]
  },
  {
   "cell_type": "code",
   "execution_count": null,
   "metadata": {
    "nbgrader": {
     "grade": true,
     "grade_id": "cell-29973bfa6df80bc6",
     "locked": true,
     "points": 10,
     "schema_version": 3,
     "solution": false
    }
   },
   "outputs": [],
   "source": [
    "## BEGIN HIDDEN TEST \n",
    "println(@test mean_age ≈ 29.69911764705882)\n",
    "println(@test std_age ≈ 14.516321150817317)\n",
    "## END HIDDEN TEST"
   ]
  },
  {
   "cell_type": "markdown",
   "metadata": {},
   "source": [
    "**Bonus Question (no marks)**\n",
    "\n",
    "Apply the `DecisionTree` from the lecture to build a classifier for surival on the Titanic, using all the features constructed so far as input, and reserving one third of the training data for testing. Store your results in the variable `predictions`. How accurate is your predictive model, and which features do you think are the most important?"
   ]
  },
  {
   "cell_type": "code",
   "execution_count": null,
   "metadata": {
    "nbgrader": {
     "grade": false,
     "grade_id": "cell-05c5ff9d5a959139",
     "locked": true,
     "schema_version": 3,
     "solution": false
    }
   },
   "outputs": [],
   "source": [
    "Random.seed!(1) # seed the RNG for reproducible results\n",
    "train = rand(nrow(titanic)) .< 2/3\n",
    "test = .!train \n",
    "@show sum(train), sum(test)\n",
    "\n",
    "# use Survived column for the training data - feature selection is up to you!\n",
    "labels = convert(Array, titanic[:, :Survived])"
   ]
  },
  {
   "cell_type": "code",
   "execution_count": null,
   "metadata": {
    "nbgrader": {
     "grade": false,
     "grade_id": "cell-43db70fbde2a30e4",
     "locked": false,
     "schema_version": 3,
     "solution": true
    }
   },
   "outputs": [],
   "source": [
    "features = convert(Matrix, titanic[:, [:Age, :Sex, :Child, :FamilySize]])\n",
    "model = build_tree(labels[train], features[train,:])\n",
    "predictions = apply_tree(model, features[test,:]);"
   ]
  },
  {
   "cell_type": "code",
   "execution_count": null,
   "metadata": {
    "nbgrader": {
     "grade": true,
     "grade_id": "cell-8a611bec3d1ad26f",
     "locked": true,
     "points": 0,
     "schema_version": 3,
     "solution": false
    }
   },
   "outputs": [],
   "source": [
    "_toint(s::SurvivedType) = (s == Dead ? 0 : 1)\n",
    "cm = confusion_matrix(_toint.(labels[test]), _toint.(predictions))\n",
    "@show cm\n",
    "@test cm.accuracy > 0.70 # can you beat 70% accuracy?"
   ]
  },
  {
   "cell_type": "code",
   "execution_count": null,
   "metadata": {},
   "outputs": [],
   "source": []
  },
  {
   "cell_type": "code",
   "execution_count": null,
   "metadata": {},
   "outputs": [],
   "source": []
  }
 ],
 "metadata": {
  "celltoolbar": "Create Assignment",
  "kernelspec": {
   "display_name": "Julia 1.3.0",
   "language": "julia",
   "name": "julia-1.3"
  },
  "language_info": {
   "file_extension": ".jl",
   "mimetype": "application/julia",
   "name": "julia",
   "version": "1.3.0"
  }
 },
 "nbformat": 4,
 "nbformat_minor": 2
}
